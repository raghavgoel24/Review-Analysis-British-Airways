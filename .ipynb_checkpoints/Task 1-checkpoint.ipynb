{
 "cells": [
  {
   "cell_type": "markdown",
   "id": "2c50c56e",
   "metadata": {},
   "source": [
    "## Scraping Data"
   ]
  },
  {
   "cell_type": "code",
   "execution_count": 1,
   "id": "42134162",
   "metadata": {},
   "outputs": [],
   "source": [
    "import requests\n",
    "from bs4 import BeautifulSoup\n",
    "import pandas as pd"
   ]
  },
  {
   "cell_type": "code",
   "execution_count": 2,
   "id": "cc341138",
   "metadata": {},
   "outputs": [
    {
     "name": "stdout",
     "output_type": "stream",
     "text": [
      "Scraping page 1\n",
      "Scraping page 2\n",
      "Scraping page 3\n",
      "Scraping page 4\n",
      "Scraping page 5\n",
      "Scraping page 6\n",
      "Scraping page 7\n",
      "Scraping page 8\n",
      "Scraping page 9\n",
      "Scraping page 10\n"
     ]
    }
   ],
   "source": [
    "base_url = \"https://www.airlinequality.com/airline-reviews/british-airways\"\n",
    "pages = 10\n",
    "page_size = 100\n",
    "\n",
    "reviews = []\n",
    "\n",
    "for i in range(1, pages + 1):\n",
    "    print(f'Scraping page {i}')\n",
    "    \n",
    "    url = f'{base_url}/page/{i}/?sortby=post_date%3ADesc&pagesize={page_size}'\n",
    "    \n",
    "    response = requests.get(url)\n",
    "    content = response.text\n",
    "    parsed_content = BeautifulSoup(content, 'lxml')\n",
    "    for para in parsed_content.find_all(\"div\", class_ = \"text_content\"):\n",
    "        reviews.append(para.get_text())"
   ]
  },
  {
   "cell_type": "code",
   "execution_count": 3,
   "id": "545ebdb7",
   "metadata": {},
   "outputs": [
    {
     "data": {
      "text/html": [
       "<div>\n",
       "<style scoped>\n",
       "    .dataframe tbody tr th:only-of-type {\n",
       "        vertical-align: middle;\n",
       "    }\n",
       "\n",
       "    .dataframe tbody tr th {\n",
       "        vertical-align: top;\n",
       "    }\n",
       "\n",
       "    .dataframe thead th {\n",
       "        text-align: right;\n",
       "    }\n",
       "</style>\n",
       "<table border=\"1\" class=\"dataframe\">\n",
       "  <thead>\n",
       "    <tr style=\"text-align: right;\">\n",
       "      <th></th>\n",
       "      <th>reviews</th>\n",
       "    </tr>\n",
       "  </thead>\n",
       "  <tbody>\n",
       "    <tr>\n",
       "      <th>0</th>\n",
       "      <td>✅ Trip Verified |  Easy check in a T5. Galleri...</td>\n",
       "    </tr>\n",
       "    <tr>\n",
       "      <th>1</th>\n",
       "      <td>Not Verified |  Flight delayed by an hour, it ...</td>\n",
       "    </tr>\n",
       "    <tr>\n",
       "      <th>2</th>\n",
       "      <td>Not Verified | The staff are very rude and not...</td>\n",
       "    </tr>\n",
       "    <tr>\n",
       "      <th>3</th>\n",
       "      <td>✅ Trip Verified |  Good domestic flight operat...</td>\n",
       "    </tr>\n",
       "    <tr>\n",
       "      <th>4</th>\n",
       "      <td>Not Verified | Failed at all basic travel fund...</td>\n",
       "    </tr>\n",
       "  </tbody>\n",
       "</table>\n",
       "</div>"
      ],
      "text/plain": [
       "                                             reviews\n",
       "0  ✅ Trip Verified |  Easy check in a T5. Galleri...\n",
       "1  Not Verified |  Flight delayed by an hour, it ...\n",
       "2  Not Verified | The staff are very rude and not...\n",
       "3  ✅ Trip Verified |  Good domestic flight operat...\n",
       "4  Not Verified | Failed at all basic travel fund..."
      ]
     },
     "execution_count": 3,
     "metadata": {},
     "output_type": "execute_result"
    }
   ],
   "source": [
    "df = pd.DataFrame()\n",
    "df[\"reviews\"] = reviews\n",
    "df.head()"
   ]
  },
  {
   "cell_type": "code",
   "execution_count": 4,
   "id": "69ca48e9",
   "metadata": {},
   "outputs": [
    {
     "data": {
      "text/html": [
       "<div>\n",
       "<style scoped>\n",
       "    .dataframe tbody tr th:only-of-type {\n",
       "        vertical-align: middle;\n",
       "    }\n",
       "\n",
       "    .dataframe tbody tr th {\n",
       "        vertical-align: top;\n",
       "    }\n",
       "\n",
       "    .dataframe thead th {\n",
       "        text-align: right;\n",
       "    }\n",
       "</style>\n",
       "<table border=\"1\" class=\"dataframe\">\n",
       "  <thead>\n",
       "    <tr style=\"text-align: right;\">\n",
       "      <th></th>\n",
       "      <th>reviews</th>\n",
       "    </tr>\n",
       "  </thead>\n",
       "  <tbody>\n",
       "    <tr>\n",
       "      <th>0</th>\n",
       "      <td>Easy check in a T5. Galleries south and Nort...</td>\n",
       "    </tr>\n",
       "    <tr>\n",
       "      <th>1</th>\n",
       "      <td>Flight delayed by an hour, it happens, no bi...</td>\n",
       "    </tr>\n",
       "    <tr>\n",
       "      <th>2</th>\n",
       "      <td>The staff are very rude and not trained prope...</td>\n",
       "    </tr>\n",
       "    <tr>\n",
       "      <th>3</th>\n",
       "      <td>Good domestic flight operated by BA Cityflye...</td>\n",
       "    </tr>\n",
       "    <tr>\n",
       "      <th>4</th>\n",
       "      <td>Failed at all basic travel fundamentals: 1) O...</td>\n",
       "    </tr>\n",
       "    <tr>\n",
       "      <th>...</th>\n",
       "      <td>...</td>\n",
       "    </tr>\n",
       "    <tr>\n",
       "      <th>995</th>\n",
       "      <td>Johannesburg to London. I tend to stay with ...</td>\n",
       "    </tr>\n",
       "    <tr>\n",
       "      <th>996</th>\n",
       "      <td>Singapore to London Heathrow. It's my first ...</td>\n",
       "    </tr>\n",
       "    <tr>\n",
       "      <th>997</th>\n",
       "      <td>London to Los Angeles. Booked this trip eigh...</td>\n",
       "    </tr>\n",
       "    <tr>\n",
       "      <th>998</th>\n",
       "      <td>Miami to London Heathrow. As with many other...</td>\n",
       "    </tr>\n",
       "    <tr>\n",
       "      <th>999</th>\n",
       "      <td>London Heathrow to Milan Malpensa. Worst airl...</td>\n",
       "    </tr>\n",
       "  </tbody>\n",
       "</table>\n",
       "<p>1000 rows × 1 columns</p>\n",
       "</div>"
      ],
      "text/plain": [
       "                                               reviews\n",
       "0      Easy check in a T5. Galleries south and Nort...\n",
       "1      Flight delayed by an hour, it happens, no bi...\n",
       "2     The staff are very rude and not trained prope...\n",
       "3      Good domestic flight operated by BA Cityflye...\n",
       "4     Failed at all basic travel fundamentals: 1) O...\n",
       "..                                                 ...\n",
       "995    Johannesburg to London. I tend to stay with ...\n",
       "996    Singapore to London Heathrow. It's my first ...\n",
       "997    London to Los Angeles. Booked this trip eigh...\n",
       "998    Miami to London Heathrow. As with many other...\n",
       "999   London Heathrow to Milan Malpensa. Worst airl...\n",
       "\n",
       "[1000 rows x 1 columns]"
      ]
     },
     "execution_count": 4,
     "metadata": {},
     "output_type": "execute_result"
    }
   ],
   "source": [
    "df.reviews = df.reviews.str.split('|', expand =True)[1]\n",
    "df"
   ]
  },
  {
   "cell_type": "markdown",
   "id": "8006a761",
   "metadata": {},
   "source": [
    "## Processing Data"
   ]
  },
  {
   "cell_type": "markdown",
   "id": "23afe181",
   "metadata": {},
   "source": [
    "### Cleaning text"
   ]
  },
  {
   "cell_type": "code",
   "execution_count": 5,
   "id": "ca13e297",
   "metadata": {},
   "outputs": [
    {
     "data": {
      "text/html": [
       "<div>\n",
       "<style scoped>\n",
       "    .dataframe tbody tr th:only-of-type {\n",
       "        vertical-align: middle;\n",
       "    }\n",
       "\n",
       "    .dataframe tbody tr th {\n",
       "        vertical-align: top;\n",
       "    }\n",
       "\n",
       "    .dataframe thead th {\n",
       "        text-align: right;\n",
       "    }\n",
       "</style>\n",
       "<table border=\"1\" class=\"dataframe\">\n",
       "  <thead>\n",
       "    <tr style=\"text-align: right;\">\n",
       "      <th></th>\n",
       "      <th>reviews</th>\n",
       "      <th>Cleaned Reviews</th>\n",
       "    </tr>\n",
       "  </thead>\n",
       "  <tbody>\n",
       "    <tr>\n",
       "      <th>0</th>\n",
       "      <td>Easy check in a T5. Galleries south and Nort...</td>\n",
       "      <td>Easy check in a T Galleries south and North l...</td>\n",
       "    </tr>\n",
       "    <tr>\n",
       "      <th>1</th>\n",
       "      <td>Flight delayed by an hour, it happens, no bi...</td>\n",
       "      <td>Flight delayed by an hour it happens no biggi...</td>\n",
       "    </tr>\n",
       "    <tr>\n",
       "      <th>2</th>\n",
       "      <td>The staff are very rude and not trained prope...</td>\n",
       "      <td>The staff are very rude and not trained prope...</td>\n",
       "    </tr>\n",
       "    <tr>\n",
       "      <th>3</th>\n",
       "      <td>Good domestic flight operated by BA Cityflye...</td>\n",
       "      <td>Good domestic flight operated by BA Cityflyer...</td>\n",
       "    </tr>\n",
       "    <tr>\n",
       "      <th>4</th>\n",
       "      <td>Failed at all basic travel fundamentals: 1) O...</td>\n",
       "      <td>Failed at all basic travel fundamentals Our f...</td>\n",
       "    </tr>\n",
       "  </tbody>\n",
       "</table>\n",
       "</div>"
      ],
      "text/plain": [
       "                                             reviews  \\\n",
       "0    Easy check in a T5. Galleries south and Nort...   \n",
       "1    Flight delayed by an hour, it happens, no bi...   \n",
       "2   The staff are very rude and not trained prope...   \n",
       "3    Good domestic flight operated by BA Cityflye...   \n",
       "4   Failed at all basic travel fundamentals: 1) O...   \n",
       "\n",
       "                                     Cleaned Reviews  \n",
       "0   Easy check in a T Galleries south and North l...  \n",
       "1   Flight delayed by an hour it happens no biggi...  \n",
       "2   The staff are very rude and not trained prope...  \n",
       "3   Good domestic flight operated by BA Cityflyer...  \n",
       "4   Failed at all basic travel fundamentals Our f...  "
      ]
     },
     "execution_count": 5,
     "metadata": {},
     "output_type": "execute_result"
    }
   ],
   "source": [
    "import re\n",
    "\n",
    "def clean(text):\n",
    "    text = re.sub('[^a-zA-z]+', ' ', str(text))\n",
    "    return text\n",
    "\n",
    "df['Cleaned Reviews'] = df.reviews.apply(clean)\n",
    "df.head()"
   ]
  },
  {
   "cell_type": "code",
   "execution_count": 6,
   "id": "bf573448",
   "metadata": {},
   "outputs": [
    {
     "name": "stderr",
     "output_type": "stream",
     "text": [
      "[nltk_data] Downloading package punkt to C:\\Users\\Raghav\n",
      "[nltk_data]     Goel\\AppData\\Roaming\\nltk_data...\n",
      "[nltk_data]   Package punkt is already up-to-date!\n",
      "[nltk_data] Downloading package stopwords to C:\\Users\\Raghav\n",
      "[nltk_data]     Goel\\AppData\\Roaming\\nltk_data...\n",
      "[nltk_data]   Package stopwords is already up-to-date!\n",
      "[nltk_data] Downloading package wordnet to C:\\Users\\Raghav\n",
      "[nltk_data]     Goel\\AppData\\Roaming\\nltk_data...\n",
      "[nltk_data]   Package wordnet is already up-to-date!\n"
     ]
    }
   ],
   "source": [
    "import nltk\n",
    "nltk.download(\"punkt\")\n",
    "\n",
    "from nltk.tokenize import word_tokenize\n",
    "from nltk import pos_tag\n",
    "nltk.download('stopwords')\n",
    "from nltk.corpus import stopwords\n",
    "nltk.download('wordnet')\n",
    "from nltk.corpus import wordnet"
   ]
  },
  {
   "cell_type": "code",
   "execution_count": 15,
   "id": "37a218be",
   "metadata": {},
   "outputs": [
    {
     "name": "stderr",
     "output_type": "stream",
     "text": [
      "[nltk_data] Downloading package omw-1.4 to C:\\Users\\Raghav\n",
      "[nltk_data]     Goel\\AppData\\Roaming\\nltk_data...\n",
      "[nltk_data]   Package omw-1.4 is already up-to-date!\n",
      "[nltk_data] Downloading package averaged_perceptron_tagger to\n",
      "[nltk_data]     C:\\Users\\Raghav Goel\\AppData\\Roaming\\nltk_data...\n",
      "[nltk_data]   Package averaged_perceptron_tagger is already up-to-\n",
      "[nltk_data]       date!\n"
     ]
    },
    {
     "data": {
      "text/html": [
       "<div>\n",
       "<style scoped>\n",
       "    .dataframe tbody tr th:only-of-type {\n",
       "        vertical-align: middle;\n",
       "    }\n",
       "\n",
       "    .dataframe tbody tr th {\n",
       "        vertical-align: top;\n",
       "    }\n",
       "\n",
       "    .dataframe thead th {\n",
       "        text-align: right;\n",
       "    }\n",
       "</style>\n",
       "<table border=\"1\" class=\"dataframe\">\n",
       "  <thead>\n",
       "    <tr style=\"text-align: right;\">\n",
       "      <th></th>\n",
       "      <th>reviews</th>\n",
       "      <th>Cleaned Reviews</th>\n",
       "      <th>POS Tagged</th>\n",
       "    </tr>\n",
       "  </thead>\n",
       "  <tbody>\n",
       "    <tr>\n",
       "      <th>0</th>\n",
       "      <td>Easy check in a T5. Galleries south and Nort...</td>\n",
       "      <td>Easy check in a T Galleries south and North l...</td>\n",
       "      <td>[(Easy, a), (check, n), (Galleries, n), (south...</td>\n",
       "    </tr>\n",
       "    <tr>\n",
       "      <th>1</th>\n",
       "      <td>Flight delayed by an hour, it happens, no bi...</td>\n",
       "      <td>Flight delayed by an hour it happens no biggi...</td>\n",
       "      <td>[(Flight, n), (delayed, v), (hour, n), (happen...</td>\n",
       "    </tr>\n",
       "    <tr>\n",
       "      <th>2</th>\n",
       "      <td>The staff are very rude and not trained prope...</td>\n",
       "      <td>The staff are very rude and not trained prope...</td>\n",
       "      <td>[(staff, n), (rude, a), (trained, v), (properl...</td>\n",
       "    </tr>\n",
       "    <tr>\n",
       "      <th>3</th>\n",
       "      <td>Good domestic flight operated by BA Cityflye...</td>\n",
       "      <td>Good domestic flight operated by BA Cityflyer...</td>\n",
       "      <td>[(Good, a), (domestic, a), (flight, n), (opera...</td>\n",
       "    </tr>\n",
       "    <tr>\n",
       "      <th>4</th>\n",
       "      <td>Failed at all basic travel fundamentals: 1) O...</td>\n",
       "      <td>Failed at all basic travel fundamentals Our f...</td>\n",
       "      <td>[(Failed, v), (basic, a), (travel, n), (fundam...</td>\n",
       "    </tr>\n",
       "  </tbody>\n",
       "</table>\n",
       "</div>"
      ],
      "text/plain": [
       "                                             reviews  \\\n",
       "0    Easy check in a T5. Galleries south and Nort...   \n",
       "1    Flight delayed by an hour, it happens, no bi...   \n",
       "2   The staff are very rude and not trained prope...   \n",
       "3    Good domestic flight operated by BA Cityflye...   \n",
       "4   Failed at all basic travel fundamentals: 1) O...   \n",
       "\n",
       "                                     Cleaned Reviews  \\\n",
       "0   Easy check in a T Galleries south and North l...   \n",
       "1   Flight delayed by an hour it happens no biggi...   \n",
       "2   The staff are very rude and not trained prope...   \n",
       "3   Good domestic flight operated by BA Cityflyer...   \n",
       "4   Failed at all basic travel fundamentals Our f...   \n",
       "\n",
       "                                          POS Tagged  \n",
       "0  [(Easy, a), (check, n), (Galleries, n), (south...  \n",
       "1  [(Flight, n), (delayed, v), (hour, n), (happen...  \n",
       "2  [(staff, n), (rude, a), (trained, v), (properl...  \n",
       "3  [(Good, a), (domestic, a), (flight, n), (opera...  \n",
       "4  [(Failed, v), (basic, a), (travel, n), (fundam...  "
      ]
     },
     "execution_count": 15,
     "metadata": {},
     "output_type": "execute_result"
    }
   ],
   "source": [
    "nltk.download('omw-1.4')\n",
    "nltk.download('averaged_perceptron_tagger')\n",
    "\n",
    "pos_dict = {'J':wordnet.ADJ, 'V':wordnet.VERB, 'N': wordnet.NOUN, 'R':wordnet.ADV}\n",
    "def token_stop_pos(text):\n",
    "    tags = pos_tag(word_tokenize(text))\n",
    "    #print(tags)\n",
    "    newlist = []\n",
    "    for word, tag in tags:\n",
    "        if word.lower() not in set(stopwords.words('english')):\n",
    "            newlist.append(tuple([word, pos_dict.get(tag[0])]))\n",
    "            #print(tag[0])\n",
    "            #print(pos_dict.get(tag[0]))\n",
    "    return newlist\n",
    "    \n",
    "df[\"POS Tagged\"] = df['Cleaned Reviews'].apply(token_stop_pos)\n",
    "df.head()"
   ]
  },
  {
   "cell_type": "code",
   "execution_count": null,
   "id": "45b03c8c",
   "metadata": {},
   "outputs": [],
   "source": []
  }
 ],
 "metadata": {
  "kernelspec": {
   "display_name": "Python 3 (ipykernel)",
   "language": "python",
   "name": "python3"
  },
  "language_info": {
   "codemirror_mode": {
    "name": "ipython",
    "version": 3
   },
   "file_extension": ".py",
   "mimetype": "text/x-python",
   "name": "python",
   "nbconvert_exporter": "python",
   "pygments_lexer": "ipython3",
   "version": "3.11.4"
  }
 },
 "nbformat": 4,
 "nbformat_minor": 5
}
